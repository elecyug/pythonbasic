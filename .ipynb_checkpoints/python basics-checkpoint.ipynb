{
 "cells": [
  {
   "cell_type": "code",
   "execution_count": 1,
   "id": "643cc699-95bd-4f5b-bf7c-00750deb26d7",
   "metadata": {},
   "outputs": [],
   "source": [
    "# Question_1: Explain the key features of Python that make it a popular choice for programming language"
   ]
  },
  {
   "cell_type": "raw",
   "id": "38fef047-0398-47e1-979e-4311f46921ff",
   "metadata": {},
   "source": [
    "1.  Simplicity and Readability: Python's syntax is designed to be clear and readable, which makes it accessible for     beginners and experienced developers alike. Its elegant and straightforward style reduces the cost of program       maintenance.\n",
    "\n",
    "2.  Versatility: Python is a versatile language that can be used for a wide range of applications, including web       development, data analysis, artificial intelligence, scientific computing, and more. This versatility is      \n",
    "    supported by a vast ecosystem of libraries and frameworks.\n",
    "\n",
    "3.  Rich Standard Library: Python comes with a comprehensive standard library that provides modules and packages       for tasks such as string operations, file I/O, web services, and more. This reduces the need for external           libraries for many common programming tasks.\n",
    "\n",
    "4.  Interpreted and Interactive: Python is an interpreted language, which means that code can be executed line by   \n",
    "    line, making it easier to test and debug. Additionally, Python supports an interactive mode where you can           experiment with code snippets and immediately see the results.\n",
    "\n",
    "5.  Strong Community and Support: Python has a large and active community of developers who contribute to its           growth and development. This community support is evident in the availability of resources, tutorials, and         forums where developers can seek help and share knowledge.\n",
    "\n",
    "6.  Platform Independence: Python is highly portable and runs on various platforms including Windows, Linux, and       macOS. This makes it easier to develop applications that can run on different systems without modification.\n",
    "\n",
    "7.  Scalability: Python scales well with the size of projects. It can be used to write small scripts or large-scale     applications. Many high-traffic websites and applications are built using Python frameworks such as Django and     Flask.\n",
    "\n",
    "8.  Libraries and Frameworks: Python has a vast ecosystem of third-party libraries and frameworks that extend its       capabilities. For example, NumPy and pandas for data manipulation, TensorFlow and PyTorch for machine learning,     Django and Flask for web development, and many more.\n",
    "\n",
    "9.  Integration Capabilities: Python can easily interface with other languages like C/C++, allowing developers to       optimize critical sections of code for performance while retaining Python's ease of use for other parts of the     project.\n",
    "\n",
    "10. Adoption in Academia and Industry: Python's popularity in both academic and industrial settings has led to its     widespread adoption. It is often the language of choice for teaching programming and data science due to its       simplicity and power."
   ]
  },
  {
   "cell_type": "code",
   "execution_count": 2,
   "id": "bc003e42-0332-4b7d-a0ac-1d0db6bdbe0d",
   "metadata": {},
   "outputs": [],
   "source": [
    "#Question_2 : Describe the role of predefined keywords in Python and provide examples of how they are used in a\n",
    "#program"
   ]
  },
  {
   "cell_type": "raw",
   "id": "75acd688-6392-468d-8919-a896ee8c898c",
   "metadata": {},
   "source": [
    "Predefined keywords : \n",
    "    1. Keywords are reserved words in Python that have special meanings and cannot be used as identifiers (variable        names, function names, etc.). \n",
    "    \n",
    "    2. Examples of keywords include if, else, while, for, def, class, import, try, except, return, True, False,            None, etc.\n",
    "    \n",
    "    3. Keywords are case-sensitive and cannot be redefined or overridden within a Python progra"
   ]
  },
  {
   "cell_type": "code",
   "execution_count": 3,
   "id": "ccab4ed8-301d-44b8-91af-8c389ebd0a6e",
   "metadata": {},
   "outputs": [
    {
     "name": "stdout",
     "output_type": "stream",
     "text": [
      "Hello world!\n"
     ]
    }
   ],
   "source": [
    "# Example:\n",
    "print(\"Hello world!\") # Here print is a keyword"
   ]
  },
  {
   "cell_type": "code",
   "execution_count": 4,
   "id": "16aaaf06-c2fa-4525-ab9f-0d503f9651b4",
   "metadata": {},
   "outputs": [
    {
     "data": {
      "text/plain": [
       "3"
      ]
     },
     "execution_count": 4,
     "metadata": {},
     "output_type": "execute_result"
    }
   ],
   "source": [
    "#Example: \n",
    "a=3 # a is as a varible \n",
    "a"
   ]
  },
  {
   "cell_type": "code",
   "execution_count": 5,
   "id": "37082959-c5be-4fa7-a110-4f1342de84d6",
   "metadata": {},
   "outputs": [],
   "source": [
    "# Question_3: Compare and contrast mutable and immutable obtects in Python with examples.\n"
   ]
  },
  {
   "cell_type": "raw",
   "id": "edba6911-a469-4776-8e7e-3d09abe02e5c",
   "metadata": {},
   "source": [
    "1.   In Python, objects can be either changeable (modifiable) or unchangeable (unchangeable). \n",
    "\n",
    "2.   Mutable objects, such as lists and dictionaries, can be modified after creation, while immutable objects, such      as tuples and strings, cannot. \n",
    "\n",
    "3.   Mutability affects how objects are stored and manipulated in memory, impacting performance, memory usage, and      concurrency in Python programs. "
   ]
  },
  {
   "cell_type": "code",
   "execution_count": 6,
   "id": "8fec5123-3793-4196-aeea-1100ec2c0dd0",
   "metadata": {},
   "outputs": [
    {
     "data": {
      "text/plain": [
       "['Yug', 'Divyanshu', 'Alok', 'Lucky']"
      ]
     },
     "execution_count": 6,
     "metadata": {},
     "output_type": "execute_result"
    }
   ],
   "source": [
    "# Example of Mutable\n",
    "lis = [\"Yug\",\"Divyanshu\",\"Alok\",\"Lucky\"] # lis is a list\n",
    "lis"
   ]
  },
  {
   "cell_type": "code",
   "execution_count": 7,
   "id": "bbaa5eaa-af1f-4388-8408-cbd45a804779",
   "metadata": {},
   "outputs": [
    {
     "data": {
      "text/plain": [
       "['Gupta', 'Divyanshu', 'Alok', 'Lucky']"
      ]
     },
     "execution_count": 7,
     "metadata": {},
     "output_type": "execute_result"
    }
   ],
   "source": [
    "lis[0]=\"Gupta\" # list is a mutable because after creation that will be change\n",
    "lis"
   ]
  },
  {
   "cell_type": "code",
   "execution_count": 9,
   "id": "bcd6601b-ff3a-4d24-af2e-db9e6cafcdb3",
   "metadata": {},
   "outputs": [
    {
     "data": {
      "text/plain": [
       "'Yug Gupta'"
      ]
     },
     "execution_count": 9,
     "metadata": {},
     "output_type": "execute_result"
    }
   ],
   "source": [
    "# Example of Immutable\n",
    "str1= \"Yug Gupta\" # str1 is a string\n",
    "str1"
   ]
  },
  {
   "cell_type": "code",
   "execution_count": 10,
   "id": "e421b0f6-978c-4c77-9bb7-e444655e7065",
   "metadata": {},
   "outputs": [
    {
     "ename": "TypeError",
     "evalue": "'str' object does not support item assignment",
     "output_type": "error",
     "traceback": [
      "\u001b[0;31m---------------------------------------------------------------------------\u001b[0m",
      "\u001b[0;31mTypeError\u001b[0m                                 Traceback (most recent call last)",
      "Cell \u001b[0;32mIn[10], line 1\u001b[0m\n\u001b[0;32m----> 1\u001b[0m \u001b[43mstr1\u001b[49m\u001b[43m[\u001b[49m\u001b[38;5;241;43m0\u001b[39;49m\u001b[43m]\u001b[49m\u001b[38;5;241m=\u001b[39m\u001b[38;5;124m\"\u001b[39m\u001b[38;5;124mP\u001b[39m\u001b[38;5;124m\"\u001b[39m \u001b[38;5;66;03m# string is a immutable because after ceation will be not change string\u001b[39;00m\n\u001b[1;32m      2\u001b[0m str1        \u001b[38;5;66;03m# it will be give error\u001b[39;00m\n",
      "\u001b[0;31mTypeError\u001b[0m: 'str' object does not support item assignment"
     ]
    }
   ],
   "source": [
    "str1[0]=\"P\" # string is a immutable because after ceation will be not change string\n",
    "str1        # it will be give error"
   ]
  },
  {
   "cell_type": "code",
   "execution_count": null,
   "id": "8ec409bd-c43d-4cf3-a233-84c8c7030fca",
   "metadata": {},
   "outputs": [],
   "source": [
    "# Question_4 : Discuss the different types of operators in Python and provide examples of how they are used ."
   ]
  },
  {
   "cell_type": "raw",
   "id": "c7b028cf-00fc-49ea-ab4d-4e3121beb324",
   "metadata": {},
   "source": [
    "1.  Operators are special symbols or keywords that are used to carry out specific actions on numbers or variables       in Python expressions. \n",
    "\n",
    "2   Python supports various types of operators, including arithmetic operators (+, -, *, /), comparison operators       (==, !=, <, >), logical operators (and, or, not), assignment operators (=, +=, -=, *=, /=), etc.\n",
    "\n",
    "3.    Operators have precedence and associativity rules that determine the order of evaluation in expression."
   ]
  },
  {
   "cell_type": "code",
   "execution_count": 11,
   "id": "2a8b6ca7-28cc-464f-bbd2-0977523dc4bd",
   "metadata": {},
   "outputs": [
    {
     "name": "stdout",
     "output_type": "stream",
     "text": [
      "11\n",
      "-1\n",
      "30\n",
      "0.8333333333333334\n",
      "0\n",
      "5\n"
     ]
    }
   ],
   "source": [
    "# Example: \n",
    "# arithmatic operater example:\n",
    "a=5\n",
    "b=6\n",
    "print(a+b)\n",
    "print(a-b)\n",
    "print(a*b)\n",
    "print(a/b)\n",
    "print(a//b)\n",
    "print(a%b)\n"
   ]
  },
  {
   "cell_type": "code",
   "execution_count": 12,
   "id": "3023bb75-e197-4ae7-93ff-a85522e39b9e",
   "metadata": {},
   "outputs": [
    {
     "name": "stdout",
     "output_type": "stream",
     "text": [
      "Valid Name\n"
     ]
    }
   ],
   "source": [
    "# Comparsion operater\n",
    "name= \"Nikhil Gupta\"\n",
    "if name==\"Nikhil Gupta\": # comparsion operater ==\n",
    "    print(\"Valid Name\")\n",
    "else:\n",
    "    print(\"Not Valid Name\")"
   ]
  },
  {
   "cell_type": "code",
   "execution_count": 13,
   "id": "3af0557c-2bd1-47d6-a01b-333d277c3c14",
   "metadata": {},
   "outputs": [
    {
     "data": {
      "text/plain": [
       "True"
      ]
     },
     "execution_count": 13,
     "metadata": {},
     "output_type": "execute_result"
    }
   ],
   "source": [
    "# logical operators (and, or, not)\n",
    "True and True"
   ]
  },
  {
   "cell_type": "code",
   "execution_count": 14,
   "id": "1e5d4bc4-9ccd-4c99-8b02-cf3a98443006",
   "metadata": {},
   "outputs": [
    {
     "data": {
      "text/plain": [
       "True"
      ]
     },
     "execution_count": 14,
     "metadata": {},
     "output_type": "execute_result"
    }
   ],
   "source": [
    "True or False\n"
   ]
  },
  {
   "cell_type": "code",
   "execution_count": 15,
   "id": "d3b8948c-7327-4b2a-9e79-163dd5e020ca",
   "metadata": {},
   "outputs": [
    {
     "data": {
      "text/plain": [
       "False"
      ]
     },
     "execution_count": 15,
     "metadata": {},
     "output_type": "execute_result"
    }
   ],
   "source": [
    "(not True)"
   ]
  },
  {
   "cell_type": "code",
   "execution_count": 24,
   "id": "385349f9-29a9-4ac8-9444-10b3ee5ebae7",
   "metadata": {},
   "outputs": [
    {
     "data": {
      "text/plain": [
       "5"
      ]
     },
     "execution_count": 24,
     "metadata": {},
     "output_type": "execute_result"
    }
   ],
   "source": [
    "# assignment operators (=, +=, -=, *=, /=)\n",
    "a=5\n",
    "a"
   ]
  },
  {
   "cell_type": "code",
   "execution_count": 26,
   "id": "55f19806-b515-488d-85ae-1b072d7505f9",
   "metadata": {},
   "outputs": [
    {
     "data": {
      "text/plain": [
       "15"
      ]
     },
     "execution_count": 26,
     "metadata": {},
     "output_type": "execute_result"
    }
   ],
   "source": [
    "a+=5\n",
    "a"
   ]
  },
  {
   "cell_type": "code",
   "execution_count": 38,
   "id": "a46e2f8b-ef92-4bda-abdc-6e0a6a69d5fd",
   "metadata": {},
   "outputs": [
    {
     "data": {
      "text/plain": [
       "3"
      ]
     },
     "execution_count": 38,
     "metadata": {},
     "output_type": "execute_result"
    }
   ],
   "source": [
    "a-=6\n",
    "a"
   ]
  },
  {
   "cell_type": "code",
   "execution_count": 39,
   "id": "ce3028c6-0819-4353-a679-6e222c65b817",
   "metadata": {},
   "outputs": [
    {
     "data": {
      "text/plain": [
       "21"
      ]
     },
     "execution_count": 39,
     "metadata": {},
     "output_type": "execute_result"
    }
   ],
   "source": [
    "a*=7\n",
    "a"
   ]
  },
  {
   "cell_type": "code",
   "execution_count": 40,
   "id": "86c3f06f-89f3-4d85-bb18-9159def22673",
   "metadata": {},
   "outputs": [
    {
     "data": {
      "text/plain": [
       "2.625"
      ]
     },
     "execution_count": 40,
     "metadata": {},
     "output_type": "execute_result"
    }
   ],
   "source": [
    "a/=8\n",
    "a"
   ]
  },
  {
   "cell_type": "code",
   "execution_count": 41,
   "id": "9774e451-9784-445d-842d-82b23ab273c2",
   "metadata": {},
   "outputs": [
    {
     "data": {
      "text/plain": [
       "0.0"
      ]
     },
     "execution_count": 41,
     "metadata": {},
     "output_type": "execute_result"
    }
   ],
   "source": [
    "a//=9\n",
    "a"
   ]
  },
  {
   "cell_type": "code",
   "execution_count": 42,
   "id": "454ba399-b437-4985-a7d1-8266249124f8",
   "metadata": {},
   "outputs": [
    {
     "data": {
      "text/plain": [
       "0.0"
      ]
     },
     "execution_count": 42,
     "metadata": {},
     "output_type": "execute_result"
    }
   ],
   "source": [
    "a%=8\n",
    "a"
   ]
  },
  {
   "cell_type": "code",
   "execution_count": 43,
   "id": "5862f328-31de-48dd-95a3-4c83d893f682",
   "metadata": {},
   "outputs": [
    {
     "data": {
      "text/plain": [
       "True"
      ]
     },
     "execution_count": 43,
     "metadata": {},
     "output_type": "execute_result"
    }
   ],
   "source": [
    "# Member ship Operater\n",
    "lis= [\"Nikhil\",\"Divyanshu\",\"Alok\",\"Lucky\"]\n",
    "\"Nikhil\" in lis"
   ]
  },
  {
   "cell_type": "code",
   "execution_count": 44,
   "id": "a09cd506-ac10-41f9-a1ed-ce4a710600dc",
   "metadata": {},
   "outputs": [
    {
     "data": {
      "text/plain": [
       "False"
      ]
     },
     "execution_count": 44,
     "metadata": {},
     "output_type": "execute_result"
    }
   ],
   "source": [
    "\"Nikhil\" not in lis"
   ]
  },
  {
   "cell_type": "code",
   "execution_count": 45,
   "id": "f6eb3efd-7432-4b3c-a687-e16f652c2a82",
   "metadata": {},
   "outputs": [],
   "source": [
    "# Question_4 :Explain the concept of type casting in Python with examples.\n"
   ]
  },
  {
   "cell_type": "raw",
   "id": "4a27fb8a-9aa9-4b9e-8a33-9ef747662b02",
   "metadata": {},
   "source": [
    "1.  Type casting, also referred to as type conversion, is the process of changing one data type to another in Python.\n",
    "\n",
    "2.  Python provides built-in functions for type casting, such as int(), float(), str(), list(), tuple(), dict(), etc.\n",
    "\n",
    "3.  Type casting is often necessary for performing arithmetic operations, data manipulation, and input/output operations in Python programs."
   ]
  },
  {
   "cell_type": "code",
   "execution_count": 46,
   "id": "2ecbdf5f-6960-4376-85bb-e016ef252ae6",
   "metadata": {},
   "outputs": [
    {
     "data": {
      "text/plain": [
       "int"
      ]
     },
     "execution_count": 46,
     "metadata": {},
     "output_type": "execute_result"
    }
   ],
   "source": [
    "# Example of Type casting\n",
    "a=3\n",
    "type(a)"
   ]
  },
  {
   "cell_type": "code",
   "execution_count": 47,
   "id": "60244779-f926-4270-8b15-45a9f1b4a805",
   "metadata": {},
   "outputs": [
    {
     "data": {
      "text/plain": [
       "str"
      ]
     },
     "execution_count": 47,
     "metadata": {},
     "output_type": "execute_result"
    }
   ],
   "source": [
    "name=\"Nikhil Gupta\"\n",
    "type(name)"
   ]
  },
  {
   "cell_type": "code",
   "execution_count": 48,
   "id": "06e5d3ee-c0be-4c48-be70-b12ffa403a5c",
   "metadata": {},
   "outputs": [
    {
     "data": {
      "text/plain": [
       "float"
      ]
     },
     "execution_count": 48,
     "metadata": {},
     "output_type": "execute_result"
    }
   ],
   "source": [
    "num=3.4\n",
    "type(num)"
   ]
  },
  {
   "cell_type": "code",
   "execution_count": 49,
   "id": "b0c66371-141d-4f90-b1b1-30be561e28d9",
   "metadata": {},
   "outputs": [
    {
     "data": {
      "text/plain": [
       "list"
      ]
     },
     "execution_count": 49,
     "metadata": {},
     "output_type": "execute_result"
    }
   ],
   "source": [
    "lis =[1,2,3,4.5,\"Nikhil gupta\",67]\n",
    "type(lis)"
   ]
  },
  {
   "cell_type": "code",
   "execution_count": 50,
   "id": "cf4af24b-f023-4c8c-a454-50b6f1932913",
   "metadata": {},
   "outputs": [
    {
     "data": {
      "text/plain": [
       "tuple"
      ]
     },
     "execution_count": 50,
     "metadata": {},
     "output_type": "execute_result"
    }
   ],
   "source": [
    "tup=(1,2,3.4,\"Nikhil Gupta\")\n",
    "type(tup)"
   ]
  },
  {
   "cell_type": "code",
   "execution_count": 51,
   "id": "fe728931-6fb8-4956-8ee9-bdf009af23e0",
   "metadata": {},
   "outputs": [
    {
     "name": "stdout",
     "output_type": "stream",
     "text": [
      "<class 'str'>\n"
     ]
    }
   ],
   "source": [
    "# Type casting >> conversion one data type to another data type\n",
    "# integer to string\n",
    "a=5\n",
    "print(type(str(a)))"
   ]
  },
  {
   "cell_type": "code",
   "execution_count": 52,
   "id": "ec41bc1b-d9dd-458b-9d57-04c8ba299191",
   "metadata": {},
   "outputs": [
    {
     "name": "stdout",
     "output_type": "stream",
     "text": [
      "<class 'float'>\n"
     ]
    }
   ],
   "source": [
    "# integer to float\n",
    "a=5\n",
    "print(type(float(a)))\n"
   ]
  },
  {
   "cell_type": "code",
   "execution_count": 53,
   "id": "002bd298-8dfb-4586-a551-5f034fc6e46d",
   "metadata": {},
   "outputs": [
    {
     "name": "stdout",
     "output_type": "stream",
     "text": [
      "<class 'tuple'>\n"
     ]
    }
   ],
   "source": [
    "# list to tuple\n",
    "lis=[1,2,3.4,\"Nikhil\"]\n",
    "print(type(tuple(lis)))"
   ]
  },
  {
   "cell_type": "code",
   "execution_count": 54,
   "id": "e6c11661-5802-4e67-8381-fb632e33b0fc",
   "metadata": {},
   "outputs": [],
   "source": [
    "# Question_5:  How do conditional statements work in Python? Illustrate with examples ."
   ]
  },
  {
   "cell_type": "raw",
   "id": "ba9a44d7-bde0-4c7f-8d9b-5db44570cee4",
   "metadata": {},
   "source": [
    "1.  Conditionals in Python are used to execute code based on the evaluation of one or more conditions.\n",
    "\n",
    "2.  Python supports conditional statements such as if, elif (else if), and else to control the flow of execution.\n",
    "\n",
    "3.  Conditionals can be nested to handle multiple conditions and control different branches of execution based on       the outcome of logical expressions."
   ]
  },
  {
   "cell_type": "code",
   "execution_count": 55,
   "id": "dd7925e3-88e2-47a4-a6ea-0da93cdd7638",
   "metadata": {},
   "outputs": [
    {
     "name": "stdout",
     "output_type": "stream",
     "text": [
      "you are all rounder\n"
     ]
    }
   ],
   "source": [
    "# Example\n",
    "# if statement\n",
    "grade =8\n",
    "co_cirr=True\n",
    "if ((grade >=8) and (co_cirr == True)):\n",
    "    print(\"you are all rounder\")"
   ]
  },
  {
   "cell_type": "code",
   "execution_count": 56,
   "id": "2a6d33fc-7ac9-4d40-9b11-ce7f9dec2e8d",
   "metadata": {},
   "outputs": [
    {
     "name": "stdout",
     "output_type": "stream",
     "text": [
      "Not valid Email\n"
     ]
    }
   ],
   "source": [
    "# if- else statement \n",
    "email=\"guptanikhilguptagmail.com\"\n",
    "if \"@\" in email:\n",
    "    print(\"Valid Email\")\n",
    "else:\n",
    "    print(\"Not valid Email\")"
   ]
  },
  {
   "cell_type": "code",
   "execution_count": 57,
   "id": "5d059be9-a989-4b52-924d-0aad30e38757",
   "metadata": {},
   "outputs": [
    {
     "name": "stdout",
     "output_type": "stream",
     "text": [
      "The number is huge\n"
     ]
    }
   ],
   "source": [
    "# if - elif - else statement\n",
    "a=3000\n",
    "if a<100:\n",
    "    print(\"this block will be executed if a is lesser than 100\")\n",
    "elif a>2000:\n",
    "    print(\"The number is huge\")\n",
    "elif a>100:\n",
    "    print(\"This block will be executed if a is greather than 100\")\n",
    "else:\n",
    "    print(\"The number is equals to 100\")"
   ]
  },
  {
   "cell_type": "code",
   "execution_count": 58,
   "id": "aa9d0f47-7f61-424b-b9ef-ad9a3d3f9f35",
   "metadata": {},
   "outputs": [
    {
     "name": "stdout",
     "output_type": "stream",
     "text": [
      "Both x and y is greather than 5\n"
     ]
    }
   ],
   "source": [
    "# nested if else\n",
    "x=6\n",
    "y=6\n",
    "if x>5:\n",
    "    if y>5:\n",
    "        print(\"Both x and y is greather than 5\")\n",
    "    else:\n",
    "        print(\"x is a greather than 5 but y is less than 5 \")\n",
    "else:\n",
    "    print(\"x is not greather than 5\")"
   ]
  },
  {
   "cell_type": "code",
   "execution_count": 59,
   "id": "14f6c797-eeef-4e29-ac33-5cd56ef6b45f",
   "metadata": {},
   "outputs": [],
   "source": [
    "# Question_6 : Describe the different types of loops in Python and their use cases with example"
   ]
  },
  {
   "cell_type": "raw",
   "id": "bdfa11e5-3a73-4462-92db-263c1e48b10f",
   "metadata": {},
   "source": [
    "1.   In Python, loops are employed to repeat a sequence of actions or code until a specific condition is              fulfilled. \n",
    "\n",
    "2.   Python offers two primary types of loops: for loops and while loops.\n",
    "\n",
    "3.   “for” loops are used for iterating over a sequence of elements, while “while” loops are used for executing      code until a specified condition becomes False"
   ]
  },
  {
   "cell_type": "code",
   "execution_count": 60,
   "id": "140669b4-e8d8-438b-8ff0-352461350d37",
   "metadata": {},
   "outputs": [
    {
     "name": "stdout",
     "output_type": "stream",
     "text": [
      "Print the enen number= \n",
      "Even Number = 2. \n",
      "Even Number = 4. \n",
      "Even Number = 6. \n",
      "Even Number = 8. \n",
      "Even Number = 10. \n",
      "Even Number = 12. \n",
      "Even Number = 14. \n",
      "Even Number = 16. \n",
      "Even Number = 18. \n",
      "Even Number = 20. \n",
      "Even Number = 22. \n",
      "Even Number = 24. \n",
      "Even Number = 26. \n",
      "Even Number = 28. \n",
      "Print the Odd number= \n",
      "Odd Number = 1.\n",
      "Odd Number = 3.\n",
      "Odd Number = 5.\n",
      "Odd Number = 7.\n",
      "Odd Number = 9.\n",
      "Odd Number = 11.\n",
      "Odd Number = 13.\n",
      "Odd Number = 15.\n",
      "Odd Number = 17.\n",
      "Odd Number = 19.\n",
      "Odd Number = 21.\n",
      "Odd Number = 23.\n",
      "Odd Number = 25.\n",
      "Odd Number = 27.\n",
      "Odd Number = 29.\n"
     ]
    }
   ],
   "source": [
    "# Example of for loop\n",
    "# print the even number \n",
    "print(\"Print the enen number= \")\n",
    "for i in range (1,30):\n",
    "    if i%2==0:\n",
    "        print(f\"Even Number = {i}. \")\n",
    "# print the odd number\n",
    "print(\"Print the Odd number= \")\n",
    "for i in range (1,30):\n",
    "    if i%2!=0:\n",
    "        print(f\"Odd Number = {i}.\")"
   ]
  },
  {
   "cell_type": "code",
   "execution_count": 61,
   "id": "20f0a5cc-9d89-4e3b-ab34-31ee5a7c65da",
   "metadata": {},
   "outputs": [
    {
     "name": "stdout",
     "output_type": "stream",
     "text": [
      "5\n",
      "4\n",
      "3\n",
      "2\n",
      "1\n"
     ]
    }
   ],
   "source": [
    "# While loop Example\n",
    "count = 5\n",
    "while count > 0:\n",
    "    print(count)\n",
    "    count= count-1"
   ]
  },
  {
   "cell_type": "code",
   "execution_count": 62,
   "id": "1bb84fc6-8749-4778-a4c7-57f252b5d06e",
   "metadata": {},
   "outputs": [
    {
     "name": "stdout",
     "output_type": "stream",
     "text": [
      "Print the enen number= \n",
      "Even Number = 2. \n",
      "Print the Odd number= \n",
      "Odd Number = 1.\n"
     ]
    }
   ],
   "source": [
    "# Example of break statement \n",
    "# print the even number \n",
    "print(\"Print the enen number= \")\n",
    "for i in range (1,30):\n",
    "    if i%2==0:\n",
    "        print(f\"Even Number = {i}. \")\n",
    "        break\n",
    "# print the odd number\n",
    "print(\"Print the Odd number= \")\n",
    "for i in range (1,30):\n",
    "    if i%2!=0:\n",
    "        print(f\"Odd Number = {i}.\")\n",
    "        break"
   ]
  },
  {
   "cell_type": "code",
   "execution_count": 63,
   "id": "52a1c42c-cccb-413f-a6d5-79f72ce48615",
   "metadata": {},
   "outputs": [
    {
     "name": "stdout",
     "output_type": "stream",
     "text": [
      "Print the enen number= \n",
      "Even Number = 2. \n",
      "Even Number = 4. \n",
      "Even Number = 6. \n",
      "Even Number = 8. \n",
      "Even Number = 10. \n",
      "Even Number = 12. \n",
      "Even Number = 14. \n",
      "Even Number = 16. \n",
      "Even Number = 18. \n",
      "Even Number = 20. \n",
      "Even Number = 22. \n",
      "Even Number = 24. \n",
      "Even Number = 26. \n",
      "Even Number = 28. \n",
      "Print the Odd number= \n",
      "Even Number = 1. \n",
      "Even Number = 3. \n",
      "Even Number = 5. \n",
      "Even Number = 7. \n",
      "Even Number = 9. \n",
      "Even Number = 11. \n",
      "Even Number = 13. \n",
      "Even Number = 15. \n",
      "Even Number = 17. \n",
      "Even Number = 19. \n",
      "Even Number = 21. \n",
      "Even Number = 23. \n",
      "Even Number = 25. \n",
      "Even Number = 27. \n",
      "Even Number = 29. \n"
     ]
    }
   ],
   "source": [
    "# Example of continue statement\n",
    "# print the even number \n",
    "print(\"Print the enen number= \")\n",
    "for i in range (1,30):\n",
    "    if i%2==0:\n",
    "        if i==3:\n",
    "            continue\n",
    "        print(f\"Even Number = {i}. \")\n",
    "# print the odd number\n",
    "print(\"Print the Odd number= \")\n",
    "for i in range (1,30):\n",
    "    if i%2!=0:\n",
    "        if i==4:\n",
    "            continue\n",
    "        print(f\"Even Number = {i}. \")\n",
    "            "
   ]
  }
 ],
 "metadata": {
  "kernelspec": {
   "display_name": "Python 3 (ipykernel)",
   "language": "python",
   "name": "python3"
  },
  "language_info": {
   "codemirror_mode": {
    "name": "ipython",
    "version": 3
   },
   "file_extension": ".py",
   "mimetype": "text/x-python",
   "name": "python",
   "nbconvert_exporter": "python",
   "pygments_lexer": "ipython3",
   "version": "3.10.8"
  }
 },
 "nbformat": 4,
 "nbformat_minor": 5
}
